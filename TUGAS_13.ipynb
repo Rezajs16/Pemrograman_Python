{
  "nbformat": 4,
  "nbformat_minor": 0,
  "metadata": {
    "colab": {
      "name": "TUGAS 13.ipynb",
      "provenance": [],
      "authorship_tag": "ABX9TyNqCroYCjs8MvSxFlqtjFcD",
      "include_colab_link": true
    },
    "kernelspec": {
      "name": "python3",
      "display_name": "Python 3"
    }
  },
  "cells": [
    {
      "cell_type": "markdown",
      "metadata": {
        "id": "view-in-github",
        "colab_type": "text"
      },
      "source": [
        "<a href=\"https://colab.research.google.com/github/Rezajs16/Pemrograman_Python/blob/main/TUGAS_13.ipynb\" target=\"_parent\"><img src=\"https://colab.research.google.com/assets/colab-badge.svg\" alt=\"Open In Colab\"/></a>"
      ]
    },
    {
      "cell_type": "code",
      "metadata": {
        "id": "QdglCSZGAa2X"
      },
      "source": [
        "import numpy as np\r\n",
        "import matplotlib.pyplot as plt"
      ],
      "execution_count": 129,
      "outputs": []
    },
    {
      "cell_type": "code",
      "metadata": {
        "id": "5pa_cEg7AoBf"
      },
      "source": [
        "def cos(frek,tipe,ht,hr,d):\r\n",
        "  #frek = frekuensi (MHz)\r\n",
        "  #tipe = urban, suburban, open\r\n",
        "  #ht = tinggi tower (meter)\r\n",
        "  #hr = tinggi user (meter)\r\n",
        "  #d = jarak (meter)\r\n",
        "    if frek in range(150,1501):\r\n",
        "        Ca=69.55\r\n",
        "        Cb=26.16\r\n",
        "    elif frek in range(1501,2001):\r\n",
        "        Ca=46.3\r\n",
        "        Cb=33.9\r\n",
        "    \r\n",
        "    if tipe=='urban' :\r\n",
        "        Cm=0\r\n",
        "    elif tipe=='suburban' :\r\n",
        "        Cm= -2*((np.log10((frek/28)**2))-5.4)\r\n",
        "    elif tipe=='open' :\r\n",
        "        Cm= -4.78*(np.log10(frek))+18.33*(np.log10(frek))-40.94\r\n",
        "    else :\r\n",
        "        Cm='tipe salah'\r\n",
        "    \r\n",
        "    ahr = (1.1*np.log10(frek)-0.7)*hr-(1.56*np.log10(frek)-1.8)\r\n",
        "    Lp = Ca+(Cb*np.log10(frek))-(13.83*np.log(ht))-ahr+((44.9-6.55*np.log10(ht))*np.log10(d))-Cm\r\n",
        "    \r\n",
        "    return Lp"
      ],
      "execution_count": 130,
      "outputs": []
    },
    {
      "cell_type": "code",
      "metadata": {
        "id": "ctibhCwAA9ft"
      },
      "source": [
        "f=1800 #MHz\r\n",
        "loc='urban'\r\n",
        "tower=80 #m\r\n",
        "user=1.5 #m\r\n",
        "dmin=200 #m\r\n",
        "dmax=700 #m\r\n",
        "N=200 #titik\r\n",
        "g=np.random.randint(dmin,dmax,N)"
      ],
      "execution_count": 131,
      "outputs": []
    },
    {
      "cell_type": "code",
      "metadata": {
        "colab": {
          "base_uri": "https://localhost:8080/"
        },
        "id": "mNAR4pRLBWAQ",
        "outputId": "476529e5-ed69-4af6-acf7-cd45de0e9b38"
      },
      "source": [
        "print(g)"
      ],
      "execution_count": 132,
      "outputs": [
        {
          "output_type": "stream",
          "text": [
            "[447 291 416 597 400 623 500 498 605 274 296 222 277 497 273 472 504 234\n",
            " 493 299 579 480 243 211 381 231 633 393 405 506 351 320 241 564 516 228\n",
            " 337 371 526 617 510 450 611 696 235 422 451 431 690 279 319 400 200 513\n",
            " 670 500 434 592 348 442 313 398 550 601 441 623 209 492 474 473 412 219\n",
            " 387 285 421 651 307 408 368 609 687 475 368 561 696 568 284 581 354 695\n",
            " 629 233 293 686 573 612 273 202 664 321 239 439 697 238 336 364 275 235\n",
            " 549 602 688 447 284 241 448 695 585 411 265 530 465 352 233 666 291 236\n",
            " 624 496 266 241 227 253 446 654 576 630 622 232 211 292 394 454 238 641\n",
            " 236 247 477 609 244 424 493 459 295 260 259 550 453 674 281 264 378 625\n",
            " 694 347 438 316 459 539 227 362 553 275 250 362 531 692 597 369 644 355\n",
            " 415 294 277 453 226 353 670 622 598 634 465 646 253 415 601 288 506 496\n",
            " 426 545]\n"
          ],
          "name": "stdout"
        }
      ]
    },
    {
      "cell_type": "code",
      "metadata": {
        "id": "7lqYrMA9Bbu9"
      },
      "source": [
        "LpUrban=cos(f,loc,tower,user,g)"
      ],
      "execution_count": 133,
      "outputs": []
    },
    {
      "cell_type": "code",
      "metadata": {
        "colab": {
          "base_uri": "https://localhost:8080/"
        },
        "id": "oD-x_UBWBkZw",
        "outputId": "a5f26c2c-3d5b-47d4-bcf0-307b24d0aeb9"
      },
      "source": [
        "print(LpUrban)"
      ],
      "execution_count": 134,
      "outputs": [
        {
          "output_type": "stream",
          "text": [
            "[180.96942503 174.92311425 179.95700017 185.04539786 179.40452789\n",
            " 185.64588579 182.54778096 182.49132302 185.23290462 174.07519091\n",
            " 175.16309002 171.11073201 174.22858158 182.46300896 174.02368724\n",
            " 181.73600358 182.66002249 171.85228415 182.34918016 175.30513732\n",
            " 184.61415283 181.97275265 172.38390337 170.39488001 178.71901871\n",
            " 171.67052372 185.87019368 179.15583628 179.57951445 182.71580964\n",
            " 177.56376198 176.26127482 172.26748753 184.24441408 182.99147866\n",
            " 171.48638728 176.99040572 178.34436265 183.26185621 185.5095663\n",
            " 182.82672547 181.06364771 185.37191467 187.20668516 171.91235348\n",
            " 180.15871585 181.09491573 180.45597456 187.08472564 174.32992186\n",
            " 176.2171864  179.40452789 169.64069205 182.90934294 186.67039466\n",
            " 182.54778096 180.55368296 184.92692586 177.44284933 180.81097299\n",
            " 175.94971816 179.33392003 183.89034279 185.13946324 180.77906757\n",
            " 185.64588579 170.26072435 182.32057865 181.79556493 181.76581574\n",
            " 179.8209002  170.91907957 178.93912065 174.62964035 180.12529653\n",
            " 186.26516079 175.67707279 179.6834724  178.22999474 185.32573025\n",
            " 187.0233476  181.82525143 178.22999474 184.1692873  187.20668516\n",
            " 184.34396388 174.58012804 184.66272611 177.68364557 187.18643176\n",
            " 185.78089869 171.79195756 175.0195957  187.00282867 184.46741986\n",
            " 185.39495023 174.02368724 169.78085477 186.54368103 176.30522567\n",
            " 172.15010153 180.71503911 187.22690949 172.09103965 176.94854466\n",
            " 178.07604525 174.12650695 171.91235348 183.86470814 185.16288176\n",
            " 187.04383667 180.96942503 174.58012804 172.26748753 181.00090267\n",
            " 187.18643176 184.75937306 179.78666874 173.6047348  183.36857064\n",
            " 181.52553294 177.60383665 171.79195756 186.58604568 174.92311425\n",
            " 171.97216775 185.668478   182.43463788 173.65779037 172.26748753\n",
            " 171.42446965 172.9519738  180.93787689 186.32992522 184.5409774\n",
            " 185.80327556 185.62325729 171.7313715  170.39488001 174.97143758\n",
            " 179.19163359 181.18830549 172.09103965 186.04710322 171.97216775\n",
            " 172.61388787 181.88443739 185.32573025 172.44175248 180.22531757\n",
            " 182.34918016 181.34259222 175.11542082 173.3364174  173.28213511\n",
            " 183.89034279 181.15724431 186.75424156 174.43053827 173.55147864\n",
            " 178.60766448 185.69103403 187.1661492  177.40231336 180.68291541\n",
            " 176.0840871  181.34259222 183.60576266 171.42446965 177.99843493\n",
            " 183.96696802 174.12650695 172.78394512 177.99843493 183.3951234\n",
            " 187.12549625 185.04539786 178.26822064 186.11287566 177.72338111\n",
            " 179.92309826 175.06758974 174.22858158 181.15724431 171.36227866\n",
            " 177.64379763 186.67039466 185.62325729 185.06897316 185.89242926\n",
            " 181.52553294 186.15655395 172.9519738  179.92309826 185.13946324\n",
            " 174.77714157 182.71580964 182.43463788 180.29160587 183.76170046]\n"
          ],
          "name": "stdout"
        }
      ]
    },
    {
      "cell_type": "code",
      "metadata": {
        "id": "6JXXrFuhBmDS"
      },
      "source": [
        "g_sort=g[np.argsort(g)]\r\n",
        "Urban_sort1=LpUrban[np.argsort(g)]"
      ],
      "execution_count": 135,
      "outputs": []
    },
    {
      "cell_type": "code",
      "metadata": {
        "id": "kn9m1dxjCVSb"
      },
      "source": [
        "f=900 #MHz\r\n",
        "loc='urban'\r\n",
        "tower=80 #m\r\n",
        "user=1.5 #m\r\n",
        "dmin=200 #m\r\n",
        "dmax=700 #m\r\n",
        "N=200 #titik\r\n",
        "h=np.random.randint(dmin,dmax,N)"
      ],
      "execution_count": 136,
      "outputs": []
    },
    {
      "cell_type": "code",
      "metadata": {
        "colab": {
          "base_uri": "https://localhost:8080/"
        },
        "id": "5I3h2zLCC2bF",
        "outputId": "0d5b4f3f-7c96-4e57-d9e5-f6092c4501ea"
      },
      "source": [
        "print(h)"
      ],
      "execution_count": 137,
      "outputs": [
        {
          "output_type": "stream",
          "text": [
            "[428 289 596 332 227 627 611 496 582 326 299 215 211 667 610 488 452 392\n",
            " 624 591 577 452 656 240 438 602 327 578 653 251 445 566 269 517 322 682\n",
            " 494 332 552 290 450 267 568 315 255 285 599 627 557 435 684 595 666 657\n",
            " 387 299 279 285 391 357 699 241 656 574 269 315 282 368 458 649 398 331\n",
            " 522 406 424 678 481 606 306 422 305 395 206 200 532 335 485 553 545 316\n",
            " 488 481 690 616 420 408 517 528 375 626 399 533 635 599 277 462 665 313\n",
            " 498 366 232 229 615 298 526 434 608 650 244 563 545 671 326 305 465 349\n",
            " 336 335 330 359 290 299 563 218 244 664 327 272 246 252 329 602 280 250\n",
            " 271 606 274 670 241 327 537 404 643 202 380 222 547 630 507 202 440 249\n",
            " 545 219 538 601 352 560 492 574 388 694 314 408 274 357 635 600 689 352\n",
            " 275 396 633 259 557 608 219 399 336 393 480 697 252 477 637 341 696 212\n",
            " 428 277]\n"
          ],
          "name": "stdout"
        }
      ]
    },
    {
      "cell_type": "code",
      "metadata": {
        "id": "p7rZOTLQC4wF"
      },
      "source": [
        "Lpurban1=cos(f,loc,tower,user,h)"
      ],
      "execution_count": 138,
      "outputs": []
    },
    {
      "cell_type": "code",
      "metadata": {
        "colab": {
          "base_uri": "https://localhost:8080/"
        },
        "id": "1awIOv8MC-Q4",
        "outputId": "1084404a-b8d5-4c5d-acb2-484d195cc5e8"
      },
      "source": [
        "print(Lpurban1)"
      ],
      "execution_count": 139,
      "outputs": [
        {
          "output_type": "stream",
          "text": [
            "[170.5639225  165.03230622 175.22812186 166.98618401 161.63080847\n",
            " 175.94237684 175.5782535  172.6409767  174.89328891 166.72928502\n",
            " 165.51147614 160.86575689 160.60121883 176.81351915 175.55518021\n",
            " 172.41192714 171.33245332 169.32628658 175.87481682 175.10945025\n",
            " 174.7717503  171.33245332 176.57927549 162.41525563 170.88925423\n",
            " 175.36922058 166.7724282  174.79614206 176.51470897 163.0465165\n",
            " 171.11259676 174.50061574 164.02210735 173.22508998 166.55537864\n",
            " 177.12679161 172.58406253 166.98618401 174.14781139 165.08096339\n",
            " 171.26998653 163.91698568 174.5503027  166.24577854 163.26922845\n",
            " 164.83597917 175.29884789 175.94237684 174.27482972 170.79244122\n",
            " 177.16803977 175.20446739 176.79238451 176.60073206 169.14545948\n",
            " 165.51147614 164.53626068 164.83597917 169.29030638 168.00885631\n",
            " 177.47361005 162.47382635 176.57927549 174.69832057 164.02210735\n",
            " 166.24577854 164.68691707 168.43633356 171.51820859 176.42815731\n",
            " 169.54025886 166.94369156 173.36066598 169.82059124 170.43165639\n",
            " 177.04393115 172.20840727 175.46250726 165.83745321 170.36505467\n",
            " 165.79134437 169.433679   160.26340318 159.84703087 173.62796503\n",
            " 167.11289765 172.32506415 174.17330685 173.96803928 166.29042593\n",
            " 172.41192714 172.20840727 177.29106446 175.6930564  170.29813655\n",
            " 169.88981122 173.22508998 173.5216533  168.70176177 175.91989282\n",
            " 169.57560702 173.65441807 176.12096862 175.29884789 164.43492041\n",
            " 171.64069839 176.7712181  166.15605698 172.69766184 168.35956913\n",
            " 161.93771032 161.75437275 175.67017055 165.46428602 173.46819503\n",
            " 170.76002179 175.50891995 176.44984513 162.6480913  174.42575514\n",
            " 173.96803928 176.89774205 166.72928502 165.79134437 171.73187176\n",
            " 167.6896078  167.15488348 167.11289765 166.90107053 168.08755058\n",
            " 165.08096339 165.51147614 174.42575514 161.06095037 162.6480913\n",
            " 176.75001985 166.7724282  164.17833339 162.76308164 163.10252547\n",
            " 166.85832016 175.36922058 164.58665872 162.99028394 164.12645032\n",
            " 175.46250726 164.28152974 176.87673349 162.47382635 166.7724282\n",
            " 173.75973622 169.75102943 176.29732444 159.9871936  168.88833718\n",
            " 161.31707084 174.01963728 176.00961438 172.94995941 159.9871936\n",
            " 170.95342854 162.933826   173.96803928 161.12541839 173.78594319\n",
            " 175.34580206 167.81017547 174.35049456 172.52691748 174.69832057\n",
            " 169.18181108 177.37248802 166.2009892  169.88981122 164.28152974\n",
            " 168.00885631 176.12096862 175.32234454 177.27063481 167.81017547\n",
            " 164.33284578 169.46929529 176.0765325  163.48847393 174.27482972\n",
            " 175.50891995 161.12541839 169.57560702 167.15488348 169.3621751\n",
            " 172.17909147 177.43324831 163.10252547 172.09077621 176.165265\n",
            " 167.36295577 177.41302399 160.66782055 170.5639225  164.43492041]\n"
          ],
          "name": "stdout"
        }
      ]
    },
    {
      "cell_type": "code",
      "metadata": {
        "id": "TU3Gt2uxDGHB"
      },
      "source": [
        "h_sort=h[np.argsort(h)]\r\n",
        "urban_sort2=Lpurban1[np.argsort(h)]"
      ],
      "execution_count": 140,
      "outputs": []
    },
    {
      "cell_type": "code",
      "metadata": {
        "id": "5df_ODizDG8R"
      },
      "source": [
        "f=700 #MHz\r\n",
        "loc='urban'\r\n",
        "tower=80 #m\r\n",
        "user=1.5 #m\r\n",
        "dmin=200 #m\r\n",
        "dmax=700 #m\r\n",
        "N=200 #titik\r\n",
        "l=np.random.randint(dmin,dmax,N)"
      ],
      "execution_count": 141,
      "outputs": []
    },
    {
      "cell_type": "code",
      "metadata": {
        "colab": {
          "base_uri": "https://localhost:8080/"
        },
        "id": "D1MtMIxfDJXv",
        "outputId": "bedce38b-f382-4901-e611-0ff39785ddee"
      },
      "source": [
        "print(l)"
      ],
      "execution_count": 142,
      "outputs": [
        {
          "output_type": "stream",
          "text": [
            "[271 460 470 684 454 395 626 451 394 257 408 434 466 232 445 314 653 661\n",
            " 560 376 563 426 389 654 693 497 662 483 348 628 404 391 606 487 243 587\n",
            " 528 440 614 638 373 283 607 661 462 238 262 365 401 403 549 276 275 671\n",
            " 341 324 498 490 658 370 257 320 311 290 535 487 234 695 351 409 311 618\n",
            " 681 279 427 257 596 511 334 542 361 413 595 440 343 649 403 570 659 560\n",
            " 582 282 658 285 654 588 251 548 654 351 319 503 658 537 674 600 570 305\n",
            " 655 464 229 372 220 293 262 302 647 527 483 471 280 551 593 630 696 252\n",
            " 495 375 245 492 595 224 250 664 500 275 581 663 389 201 298 645 598 467\n",
            " 312 696 260 654 210 606 512 366 399 316 253 379 460 209 202 319 332 245\n",
            " 270 439 276 666 427 614 551 549 361 356 452 681 600 605 636 297 588 569\n",
            " 669 639 463 288 546 670 498 587 271 204 418 403 248 350 693 474 413 675\n",
            " 303 582]\n"
          ],
          "name": "stdout"
        }
      ]
    },
    {
      "cell_type": "code",
      "metadata": {
        "id": "Bohincw7DLf2"
      },
      "source": [
        "Lpurban2=cos(f,loc,tower,user,l)"
      ],
      "execution_count": 143,
      "outputs": []
    },
    {
      "cell_type": "code",
      "metadata": {
        "colab": {
          "base_uri": "https://localhost:8080/"
        },
        "id": "Pd0sMwD9DOuL",
        "outputId": "d20bf54b-86e5-41ba-a663-9cb415434bff"
      },
      "source": [
        "print(Lpurban2)"
      ],
      "execution_count": 144,
      "outputs": [
        {
          "output_type": "stream",
          "text": [
            "[161.28105401 168.73419031 169.03713183 174.32264345 168.54924799\n",
            " 166.58828268 173.0744965  168.45585823 166.5525761  160.53388143\n",
            " 167.0444149  167.91462547 168.9167359  159.092314   168.26720045\n",
            " 163.35559288 173.66931265 173.84083669 171.50509824 165.89387876\n",
            " 171.58035882 167.65254837 166.37267279 173.69086772 174.5067799\n",
            " 169.82395147 173.86213108 169.42146015 164.80379183 173.11942872\n",
            " 166.90563312 166.44491007 172.61711095 169.53763597 159.74484588\n",
            " 172.16839151 170.67625698 168.10803223 172.80185113 173.34196474\n",
            " 165.7810378  161.89138359 172.6403364  173.84083669 168.79530207\n",
            " 159.45198216 160.80530095 165.47563315 166.80064204 166.87072297\n",
            " 171.22565064 161.53857923 161.48744946 174.05234573 164.51755945\n",
            " 163.79720389 169.85226552 169.62414333 173.77675968 165.6672856\n",
            " 160.53388143 163.62221732 163.22036396 162.23556707 170.86177926\n",
            " 169.53763597 159.21322666 174.54737427 164.92470448 167.07889776\n",
            " 163.22036396 172.89332053 174.26072582 161.69086436 167.68557591\n",
            " 160.53388143 172.38272555 170.21526101 164.22538997 171.04488984\n",
            " 165.32041133 167.21599117 172.35907107 168.10803223 164.59993534\n",
            " 173.58276099 166.87072297 171.75441869 173.79815109 171.50509824\n",
            " 172.04789259 161.84152075 173.77675968 161.99058285 173.69086772\n",
            " 172.19236809 160.20112018 171.19996926 173.69086772 164.92470448\n",
            " 163.57812891 169.99298835 173.77675968 170.91433991 174.11518407\n",
            " 172.47694822 171.75441869 162.94594806 173.71238986 168.85614984\n",
            " 158.90897644 165.74322237 158.34419639 162.38053821 160.80530095\n",
            " 162.80670899 173.53928492 170.64955321 169.42146015 169.06707071\n",
            " 161.74126241 171.27687338 172.31164261 173.16421806 174.56762767\n",
            " 160.25712916 169.76715204 165.85636545 159.86030749 169.68152116\n",
            " 172.35907107 158.59800934 160.14488762 173.90462353 169.90872346\n",
            " 161.48744946 172.02366862 173.88339333 166.37267279 157.07189025\n",
            " 162.61888971 173.49567424 172.42991566 168.94693149 163.26558467\n",
            " 174.56762767 160.69735991 173.69086772 157.6889044  172.61711095\n",
            " 170.24280009 165.51417282 166.73021071 163.44502961 160.31291631\n",
            " 166.00582296 168.73419031 157.62166686 157.14179728 163.57812891\n",
            " 164.14078769 159.86030749 161.22897913 168.07598161 161.53857923\n",
            " 173.94698819 167.68557591 172.80185113 171.27687338 171.22565064\n",
            " 165.32041133 165.12394737 168.487057   174.26072582 172.47694822\n",
            " 172.59384713 173.2977379  162.57154096 172.19236809 171.72968429\n",
            " 174.01029723 173.3640262  168.82575881 162.13808407 171.14846559\n",
            " 174.03133717 169.85226552 172.16839151 161.28105401 157.28057907\n",
            " 167.3855027  166.87072297 160.03174455 164.88451548 174.5067799\n",
            " 169.15650744 167.21599117 174.13606804 162.85327511 172.04789259]\n"
          ],
          "name": "stdout"
        }
      ]
    },
    {
      "cell_type": "code",
      "metadata": {
        "id": "x6W5RJQUDQyG"
      },
      "source": [
        "l_sort=l[np.argsort(l)]\r\n",
        "urban_sort3=Lpurban2[np.argsort(l)]"
      ],
      "execution_count": 145,
      "outputs": []
    },
    {
      "cell_type": "code",
      "metadata": {
        "colab": {
          "base_uri": "https://localhost:8080/",
          "height": 295
        },
        "id": "GxCS24W1DTC3",
        "outputId": "b360bd80-5888-45e7-b5ea-2231fdc9e862"
      },
      "source": [
        "plt.figure()\r\n",
        "plt.plot(g_sort,Urban_sort1, label='1800 Mhz')\r\n",
        "plt.plot(h_sort,urban_sort2, label='900 Mhz')\r\n",
        "plt.plot(l_sort,urban_sort3, label='700 Mhz')\r\n",
        "plt.legend()\r\n",
        "plt.title('Model Urban (GAMBAR CONTOH)')\r\n",
        "plt.xlabel('Jarak (m)')\r\n",
        "plt.ylabel('Path Loss (dB)')\r\n",
        "plt.show()"
      ],
      "execution_count": 146,
      "outputs": [
        {
          "output_type": "display_data",
          "data": {
            "image/png": "[encoded data removed]",
            "text/plain": [
              "<Figure size 432x288 with 1 Axes>"
            ]
          },
          "metadata": {
            "tags": [],
            "needs_background": "light"
          }
        }
      ]
    },
    {
      "cell_type": "code",
      "metadata": {
        "id": "wNQP3H6oDnsK"
      },
      "source": [
        "f=1800 #MHz\r\n",
        "loc='urban'\r\n",
        "tower=80 #m\r\n",
        "user=1.5 #m\r\n",
        "dmin=200 #m\r\n",
        "dmax=700 #m\r\n",
        "N=200 #titik\r\n",
        "p=np.random.randint(dmin,dmax,N)"
      ],
      "execution_count": 147,
      "outputs": []
    },
    {
      "cell_type": "code",
      "metadata": {
        "id": "06aDSecdDqXe",
        "colab": {
          "base_uri": "https://localhost:8080/"
        },
        "outputId": "e896ef0a-7aa3-4df5-b0ab-03777213e8c3"
      },
      "source": [
        "print(p)"
      ],
      "execution_count": 148,
      "outputs": [
        {
          "output_type": "stream",
          "text": [
            "[324 478 570 314 325 296 601 393 435 227 661 275 584 655 454 661 538 583\n",
            " 541 417 612 396 220 508 642 573 439 479 540 612 263 576 520 473 374 551\n",
            " 221 526 294 444 624 535 617 235 471 574 357 580 279 600 376 217 664 388\n",
            " 280 634 516 561 593 560 251 242 412 585 454 537 289 595 627 495 638 575\n",
            " 389 572 312 587 200 635 331 268 418 688 296 439 299 273 508 406 548 400\n",
            " 509 592 611 369 215 375 309 673 556 492 659 263 652 467 463 450 435 205\n",
            " 241 422 448 444 565 358 302 362 672 594 302 342 431 322 624 236 535 328\n",
            " 428 465 642 379 606 549 244 676 572 371 343 410 271 222 644 286 217 469\n",
            " 276 688 630 538 537 693 546 263 251 496 246 320 367 527 647 361 369 684\n",
            " 661 500 331 451 421 449 536 505 566 505 412 576 321 362 680 572 468 202\n",
            " 627 439 552 567 253 647 526 491 485 631 303 634 227 247 433 432 532 688\n",
            " 403 288]\n"
          ],
          "name": "stdout"
        }
      ]
    },
    {
      "cell_type": "code",
      "metadata": {
        "id": "CMkH-sB1DtFj"
      },
      "source": [
        "LpUrban=cos(f,loc,tower,user,p)"
      ],
      "execution_count": 149,
      "outputs": []
    },
    {
      "cell_type": "code",
      "metadata": {
        "id": "c2EDbWyJDvQi",
        "colab": {
          "base_uri": "https://localhost:8080/"
        },
        "outputId": "eea89d57-1b68-42e4-dc23-14795f0b714a"
      },
      "source": [
        "print(LpUrban)"
      ],
      "execution_count": 150,
      "outputs": [
        {
          "output_type": "stream",
          "text": [
            "[176.43626138 181.91393737 184.39347619 175.99465037 176.47967047\n",
            " 175.16309002 185.13946324 179.15583628 180.5861024  171.42446965\n",
            " 186.47989418 174.12650695 184.73527342 186.35144736 181.18830549\n",
            " 186.47989418 183.57960436 184.71113247 183.65793397 179.99082068\n",
            " 185.39495023 179.26295647 170.98325388 182.77137672 186.06906151\n",
            " 184.46741986 180.71503911 181.94337571 183.63187246 185.39495023\n",
            " 173.49802037 184.5409774  183.10025324 181.76581574 178.45780947\n",
            " 183.91593088 171.04713715 183.26185621 175.06758974 180.87456785\n",
            " 185.668478   183.50083675 185.5095663  171.91235348 181.7061282\n",
            " 184.49198175 177.80251748 184.63846041 174.32992186 185.11600572\n",
            " 178.53293625 170.78984712 186.54368103 178.97547226 174.3803199\n",
            " 185.89242926 182.99147866 184.1692873  184.95070011 184.14415574\n",
            " 172.84017768 172.32581571 179.8209002  184.75937306 181.18830549\n",
            " 183.5533974  174.82596739 184.99812856 185.73603802 182.40620954\n",
            " 185.98102224 184.51650088 179.01173029 184.44281507 175.90464216\n",
            " 184.807449   169.64069205 185.91462979 176.73735273 173.76330575\n",
            " 180.02456019 187.04383667 175.16309002 180.71503911 175.30513732\n",
            " 174.02368724 182.77137672 179.61425242 183.83902675 179.40452789\n",
            " 182.79907828 184.92692586 185.37191467 178.26822064 170.65941807\n",
            " 178.49542295 175.76854219 186.73332658 184.04317869 182.32057865\n",
            " 186.43720858 173.49802037 186.28678204 181.58598899 181.4648163\n",
            " 181.06364771 180.5861024  169.98851806 172.26748753 180.15871585\n",
            " 181.00090267 180.87456785 184.26936756 177.84191957 175.44576648\n",
            " 177.99843493 186.7123805  184.9744343  175.44576648 177.19786511\n",
            " 180.45597456 176.34903982 185.668478   171.97216775 183.50083675\n",
            " 176.60910082 180.35758368 181.52553294 186.06906151 178.64488045\n",
            " 185.25616844 183.86470814 172.44175248 186.79597859 184.44281507\n",
            " 178.34436265 177.23899284 179.75235389 173.9201115  171.11073201\n",
            " 186.11287566 174.67897923 170.78984712 181.64618668 174.17763673\n",
            " 187.04383667 185.80327556 183.57960436 183.5533974  187.14583739\n",
            " 183.78752308 173.49802037 172.84017768 182.43463788 172.55674281\n",
            " 176.26127482 178.19166482 183.2886107  186.17834241 177.95946883\n",
            " 178.26822064 186.96170094 186.47989418 182.54778096 176.73735273\n",
            " 181.09491573 180.12529653 181.03231012 183.52714159 182.68794368\n",
            " 184.29427692 182.68794368 179.8209002  184.5409774  176.30522567\n",
            " 177.99843493 186.87908348 184.44281507 181.61611999 169.78085477\n",
            " 185.73603802 180.71503911 183.94147257 184.31914231 172.9519738\n",
            " 186.17834241 183.26185621 182.29191895 182.11872533 185.82561694\n",
            " 175.4923326  185.89242926 171.42446965 172.61388787 180.52118874\n",
            " 180.48861939 183.42162621 187.04383667 179.50978046 174.77714157]\n"
          ],
          "name": "stdout"
        }
      ]
    },
    {
      "cell_type": "code",
      "metadata": {
        "id": "9l22cPjODx3y"
      },
      "source": [
        "p_sort=p[np.argsort(p)]\r\n",
        "Urban_sort5=LpUrban[np.argsort(p)]"
      ],
      "execution_count": 151,
      "outputs": []
    },
    {
      "cell_type": "code",
      "metadata": {
        "id": "HrUKtxzgD0wt"
      },
      "source": [
        "f=1800 #MHz\r\n",
        "loc='suburban'\r\n",
        "tower=80 #m\r\n",
        "user=1.5 #m\r\n",
        "dmin=200 #m\r\n",
        "dmax=700 #m\r\n",
        "N=200 #titik\r\n",
        "q=np.random.randint(dmin,dmax,N)"
      ],
      "execution_count": 152,
      "outputs": []
    },
    {
      "cell_type": "code",
      "metadata": {
        "id": "CFfaZ96uD2uG",
        "colab": {
          "base_uri": "https://localhost:8080/"
        },
        "outputId": "8ce3a365-2b42-464c-a76c-9f371502efe5"
      },
      "source": [
        "print(q)"
      ],
      "execution_count": 153,
      "outputs": [
        {
          "output_type": "stream",
          "text": [
            "[632 687 680 675 208 312 586 286 391 267 478 690 649 258 268 660 604 443\n",
            " 458 429 314 329 663 637 371 320 221 542 388 439 387 267 530 294 451 282\n",
            " 208 637 222 210 666 465 299 673 483 619 443 274 216 632 697 594 381 268\n",
            " 361 621 208 695 235 443 336 273 287 343 667 408 518 592 421 464 536 327\n",
            " 432 304 379 494 575 474 349 620 623 370 296 348 646 477 390 698 598 638\n",
            " 682 274 310 669 619 342 269 248 504 411 612 565 671 500 289 340 691 264\n",
            " 425 204 539 258 651 246 349 335 441 276 656 439 476 461 515 476 502 369\n",
            " 587 462 209 275 315 497 236 577 513 573 424 287 258 453 699 339 591 470\n",
            " 293 567 464 294 451 663 301 232 459 384 415 405 271 243 590 650 447 442\n",
            " 654 290 226 391 695 259 333 351 616 491 584 314 268 553 657 361 690 520\n",
            " 655 448 301 570 336 696 617 376 376 218 237 337 362 362 696 215 598 579\n",
            " 495 680]\n"
          ],
          "name": "stdout"
        }
      ]
    },
    {
      "cell_type": "code",
      "metadata": {
        "id": "Vnb1DFCkD592"
      },
      "source": [
        "Lpsuburban=cos(f,loc,tower,user,q)"
      ],
      "execution_count": 154,
      "outputs": []
    },
    {
      "cell_type": "code",
      "metadata": {
        "id": "lg_kGblOD6yS",
        "colab": {
          "base_uri": "https://localhost:8080/"
        },
        "outputId": "9481db07-5d5a-4242-8f4e-6c03860b7b45"
      },
      "source": [
        "print(Lpsuburban)"
      ],
      "execution_count": 155,
      "outputs": [
        {
          "output_type": "stream",
          "text": [
            "[182.28038084 183.45580549 183.31154137 183.20758343 166.62562223\n",
            " 172.33710005 181.21588943 171.11143713 175.51642546 170.14310475\n",
            " 178.34639527 183.51718353 182.65427638 169.66010072 170.19576365\n",
            " 182.89102544 181.64206022 177.27526421 177.74432766 176.82291496\n",
            " 172.42710827 173.08443923 182.95490872 182.39138407 174.77682055\n",
            " 172.69373271 167.47959505 180.11640523 175.40793015 177.147497\n",
            " 175.37157855 170.14310475 179.80102853 171.50004764 177.52737362\n",
            " 170.91303614 166.62562223 182.39138407 167.54318991 166.76041979\n",
            " 183.01850358 177.95799083 171.73759522 183.16578447 178.49297554\n",
            " 181.98761076 177.27526421 170.50764881 167.15724145 182.28038084\n",
            " 183.65936738 181.40689219 175.15147661 170.19576365 174.39192672\n",
            " 182.03305028 166.62562223 183.61888966 168.34481138 177.27526421\n",
            " 173.38100255 170.45614514 171.1606038  173.67145073 183.03963822\n",
            " 176.11593029 179.47842884 181.35938376 176.55775442 177.92766523\n",
            " 179.95959949 172.99854727 176.92107729 171.97120318 175.07733835\n",
            " 178.81018161 180.94895877 178.22802283 173.91572687 182.01034884\n",
            " 182.07834369 174.73880099 171.59554792 173.87530722 182.58901184\n",
            " 178.31689528 175.48035312 183.67956271 181.50143105 182.41348013\n",
            " 183.35291068 170.50764881 172.24651301 183.08181262 181.98761076\n",
            " 173.630323   170.24822642 169.10325994 179.09248038 176.21912664\n",
            " 181.82740812 180.70182546 183.12386112 178.98023885 171.25842529\n",
            " 173.54770554 183.53758359 169.98393654 176.69095861 166.35209446\n",
            " 180.03822055 169.66010072 182.69761869 168.98920071 173.91572687\n",
            " 173.33901672 177.21152547 170.61009462 182.80539456 177.147497\n",
            " 178.28733339 177.83629472 179.39661116 178.28733339 179.03647141\n",
            " 174.70067854 181.2399069  177.86681746 166.69318225 170.55896485\n",
            " 172.47189761 178.89546686 168.40462564 180.99786937 179.34180083\n",
            " 180.89987776 176.65777546 171.1606038  169.66010072 177.58970221\n",
            " 183.69972912 173.50621438 181.33556932 178.10864722 171.4520536\n",
            " 180.7516002  177.92766523 171.50004764 177.52737362 182.95490872\n",
            " 171.83150381 168.16382939 177.77505011 175.26195747 176.35555615\n",
            " 176.01197235 170.3525694  168.81636127 181.31171455 182.6759642\n",
            " 177.40188292 177.24343089 182.76238311 171.30708246 167.79473655\n",
            " 175.51642546 183.61888966 169.714593   173.25466774 173.99621987\n",
            " 181.91917547 178.72437685 181.16773131 172.42710827 170.19576365\n",
            " 180.39942592 182.82685113 174.39192672 183.51718353 179.53271113\n",
            " 182.78390525 177.43336056 171.83150381 180.82593408 173.38100255\n",
            " 183.63914306 181.94202419 174.96539415 174.96539415 167.28706944\n",
            " 168.46418699 173.42286362 174.43089283 174.43089283 183.63914306\n",
            " 167.09187596 181.50143105 181.04661072 178.83866743 183.31154137]\n"
          ],
          "name": "stdout"
        }
      ]
    },
    {
      "cell_type": "code",
      "metadata": {
        "id": "FrbkN88fD9D-"
      },
      "source": [
        "q_sort=q[np.argsort(q)]\r\n",
        "suburban_sort6=Lpsuburban[np.argsort(q)]"
      ],
      "execution_count": 156,
      "outputs": []
    },
    {
      "cell_type": "code",
      "metadata": {
        "id": "3R93NZ0UD_za"
      },
      "source": [
        "f=1800 #MHz\r\n",
        "loc='open'\r\n",
        "tower=80 #m\r\n",
        "user=1.5 #m\r\n",
        "dmin=200 #m\r\n",
        "dmax=700 #m\r\n",
        "N=200 #titik\r\n",
        "r=np.random.randint(dmin,dmax,N)"
      ],
      "execution_count": 157,
      "outputs": []
    },
    {
      "cell_type": "code",
      "metadata": {
        "id": "dTLCMOesEBsg",
        "colab": {
          "base_uri": "https://localhost:8080/"
        },
        "outputId": "cdc25466-f5d1-4f68-b4a1-b0bc0e04f0a8"
      },
      "source": [
        "print(r)"
      ],
      "execution_count": 158,
      "outputs": [
        {
          "output_type": "stream",
          "text": [
            "[485 559 224 449 685 494 652 276 317 209 270 212 688 684 688 215 247 424\n",
            " 470 568 257 423 670 358 424 545 552 296 621 673 539 450 330 613 385 207\n",
            " 676 428 572 256 509 292 655 476 509 331 657 597 254 452 512 554 214 640\n",
            " 612 462 389 469 336 664 418 270 499 438 443 329 690 440 270 371 380 372\n",
            " 350 642 692 631 239 528 340 277 656 324 469 439 532 491 557 247 315 589\n",
            " 617 472 344 646 329 246 610 559 339 663 459 631 302 628 401 498 640 243\n",
            " 595 317 506 411 642 518 495 484 607 450 493 281 673 691 664 424 216 202\n",
            " 670 258 549 282 373 342 597 235 200 417 417 331 688 630 504 463 510 264\n",
            " 624 373 275 564 661 538 629 226 596 219 553 560 297 673 306 418 202 676\n",
            " 599 472 457 692 240 386 682 244 455 445 244 483 648 534 562 394 688 690\n",
            " 264 295 628 303 246 586 332 699 364 478 664 427 366 270 645 494 302 414\n",
            " 515 402]\n"
          ],
          "name": "stdout"
        }
      ]
    },
    {
      "cell_type": "code",
      "metadata": {
        "id": "e8YI1SHiEDxO"
      },
      "source": [
        "Lpopen=cos(f,loc,tower,user,r)"
      ],
      "execution_count": 159,
      "outputs": []
    },
    {
      "cell_type": "code",
      "metadata": {
        "id": "bU7CCHOiEHRe",
        "colab": {
          "base_uri": "https://localhost:8080/"
        },
        "outputId": "def4566d-ffaf-4cb3-c989-a24b23b5f2d0"
      },
      "source": [
        "print(Lpopen)"
      ],
      "execution_count": 160,
      "outputs": [
        {
          "output_type": "stream",
          "text": [
            "[178.94978288 180.95003681 168.06812439 177.86336768 183.81333738\n",
            " 179.20878127 183.11783959 171.00869428 172.95965098 167.09178191\n",
            " 170.69909418 167.29253929 183.87489423 183.7927585  183.87489423\n",
            " 167.49047562 169.44494543 177.05637512 178.50724688 181.17502143\n",
            " 170.00399648 177.02311363 183.50145222 174.67297713 177.05637512\n",
            " 180.59275801 180.77253012 171.99414758 182.43164994 183.56438414\n",
            " 180.43682021 177.89470526 173.52578927 182.24900573 175.69719236\n",
            " 166.95633627 183.62703615 177.18864124 181.27387263 169.9490793\n",
            " 179.63013584 171.80249513 183.18250491 178.68593305 179.63013584\n",
            " 173.56841029 183.22545079 181.87645542 169.83859844 177.95717205\n",
            " 179.71291514 180.82347498 167.4248054  182.85616821 182.22600778\n",
            " 178.26541712 175.84278784 178.47724423 173.77960221 183.37473858\n",
            " 176.85561775 170.69909418 179.35063783 177.51397296 177.67386387\n",
            " 173.48303889 183.91578319 177.57814728 170.69909418 175.17542021\n",
            " 175.51305591 175.21333742 174.35463053 182.90011907 183.95655381\n",
            " 182.65667449 168.98115909 180.14637203 173.9463052  171.05963914\n",
            " 183.20399422 173.26731894 178.47724423 177.54609666 180.25268377\n",
            " 179.12297651 180.89954845 169.44494543 172.87049728 181.68641898\n",
            " 182.34062386 178.56706114 174.11105839 182.98761151 173.48303889\n",
            " 169.38780037 182.17989895 180.95003681 173.90481404 183.35350838\n",
            " 178.17364977 182.65667449 172.27682404 182.58954377 176.27075709\n",
            " 179.32238057 182.85616821 169.21496093 181.82918612 172.95965098\n",
            " 179.5468672  176.6177263  182.90011907 179.8770285  179.23726709\n",
            " 178.92070911 182.11045145 177.89470526 179.18023772 171.26159583\n",
            " 183.56438414 183.93618325 183.37473858 177.05637512 167.55584111\n",
            " 166.61191233 183.50145222 170.05870038 180.69576569 171.3116358\n",
            " 175.25115285 174.02892266 181.87645542 168.74341104 166.4717496\n",
            " 176.82187824 176.82187824 173.56841029 183.87489423 182.63433311\n",
            " 179.49108004 178.29587386 179.65778303 170.3825362  182.49953555\n",
            " 175.25115285 170.95756451 181.07547164 183.31095174 180.41066192\n",
            " 182.61195624 168.19333621 181.8528406  167.75013712 180.79802558\n",
            " 180.97521329 172.04165601 183.56438414 172.46217195 176.85561775\n",
            " 166.61191233 183.62703615 181.92356662 178.56706114 178.11213772\n",
            " 183.95655381 169.03997436 175.73373256 183.75151034 169.27281004\n",
            " 178.05035588 177.7373155  169.27281004 178.89157521 183.03115478\n",
            " 180.30554025 181.02543166 176.02269115 183.87489423 183.91578319\n",
            " 170.3825362  171.94647837 182.58954377 172.32339016 169.38780037\n",
            " 181.6144891  173.61090274 184.09832878 174.90710281 178.74499493\n",
            " 183.37473858 177.15569096 174.98428787 170.69909418 182.96578929\n",
            " 179.20878127 172.27682404 176.72017211 179.79521082 176.30584114]\n"
          ],
          "name": "stdout"
        }
      ]
    },
    {
      "cell_type": "code",
      "metadata": {
        "id": "IThnYOL5EICa"
      },
      "source": [
        "r_sort=r[np.argsort(r)]\r\n",
        "open_sort7=Lpopen[np.argsort(r)]"
      ],
      "execution_count": 161,
      "outputs": []
    },
    {
      "cell_type": "code",
      "metadata": {
        "colab": {
          "base_uri": "https://localhost:8080/",
          "height": 295
        },
        "id": "K1HpZ7ygKODH",
        "outputId": "83afe6f4-9965-4c84-8537-7f47338235a0"
      },
      "source": [
        "plt.figure()\r\n",
        "plt.plot(p_sort,Urban_sort5, label='Urban')\r\n",
        "plt.plot(q_sort,suburban_sort6, label='Suburban')\r\n",
        "plt.plot(r_sort,open_sort7, label='Open')\r\n",
        "plt.legend()\r\n",
        "plt.title('FREKUENSI 1800 MHZ (GAMBAR CONTOH)')\r\n",
        "plt.xlabel('Jarak (m)')\r\n",
        "plt.ylabel('Path Loss (dB)')\r\n",
        "plt.show()"
      ],
      "execution_count": 163,
      "outputs": [
        {
          "output_type": "display_data",
          "data": {
            "image/png": "[encoded data removed]",
            "text/plain": [
              "<Figure size 432x288 with 1 Axes>"
            ]
          },
          "metadata": {
            "tags": [],
            "needs_background": "light"
          }
        }
      ]
    }
  ]
}